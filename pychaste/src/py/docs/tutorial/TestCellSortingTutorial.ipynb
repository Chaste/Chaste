{
 "cells": [
  {
   "cell_type": "markdown",
   "id": "296c5d00",
   "metadata": {},
   "source": [
    "This tutorial is automatically generated from the file ../test/python/cell_based/tutorials/TestCellSortingTutorial.py.\n",
    "\n"
   ]
  },
  {
   "cell_type": "code",
   "execution_count": null,
   "id": "85518493",
   "metadata": {},
   "outputs": [],
   "source": [
    "# Jupyter notebook specific imports \n",
    "import matplotlib as mpl \n",
    "from IPython import display \n",
    "%matplotlib inline"
   ]
  },
  {
   "cell_type": "markdown",
   "id": "425c7509",
   "metadata": {},
   "source": [
    "\n",
    "# Introduction\n",
    "This test is a demonstration of cell sorting using a Cellular Potts based framework.\n",
    "It shows:\n",
    " * How to set up a Potts simulation\n",
    " * Working with labels\n",
    " \n",
    "## The Test\n",
    "\n"
   ]
  },
  {
   "cell_type": "code",
   "execution_count": null,
   "id": "ad3b4b3d",
   "metadata": {},
   "outputs": [],
   "source": [
    "import matplotlib.pyplot as plt # Plotting\n",
    "import numpy as np # Matrix tools\n",
    "import chaste # The PyChaste module\n",
    "chaste.init() # Set up MPI\n",
    "import chaste.cell_based # Contains cell populations\n",
    "import chaste.mesh # Contains meshes\n",
    "import chaste.visualization # Visualization tools"
   ]
  },
  {
   "cell_type": "markdown",
   "id": "0859ed0f",
   "metadata": {},
   "source": [
    "## Test 1 - Cell sorting\n",
    "The next test generates a collection of cells, there are two types of cells, labelled ones and non labelled ones,\n",
    "there is differential adhesion between the cell types. For the parameters specified, the cells sort into separate types.\n",
    "\n"
   ]
  },
  {
   "cell_type": "code",
   "execution_count": null,
   "id": "914c5dbe",
   "metadata": {},
   "outputs": [],
   "source": [
    "# Set up the test \n",
    "chaste.cell_based.SetupNotebookTest()"
   ]
  },
  {
   "cell_type": "markdown",
   "id": "6b89b200",
   "metadata": {},
   "source": [
    "First, we generate a `Potts` mesh. To create a `PottsMesh`, we can use the `PottsMeshGenerator`.\n",
    "This generates a regular square-shaped mesh, in which all elements are the same size.\n",
    "We have chosen an 8 by 8 block of elements each consisting of 4 by 4 ( = 16) lattice sites.\n",
    "\n"
   ]
  },
  {
   "cell_type": "code",
   "execution_count": null,
   "id": "53498c64",
   "metadata": {},
   "outputs": [],
   "source": [
    "generator = chaste.mesh.PottsMeshGenerator2(50, 8, 4, 50, 8, 4)\n",
    "mesh = generator.GetMesh()"
   ]
  },
  {
   "cell_type": "markdown",
   "id": "55826799",
   "metadata": {},
   "source": [
    "Having created a mesh, we now create some cells. To do this, we the `CellsGenerator` helper class,\n",
    "as before but this time the third argument is set to make all cells non-proliferative.\n",
    "\n"
   ]
  },
  {
   "cell_type": "code",
   "execution_count": null,
   "id": "83100d25",
   "metadata": {},
   "outputs": [],
   "source": [
    "differentiated_type = chaste.cell_based.DifferentiatedCellProliferativeType()\n",
    "cell_generator = chaste.cell_based.CellsGeneratorUniformCellCycleModel_2()\n",
    "cells = cell_generator.GenerateBasicRandom(mesh.GetNumElements(), differentiated_type)"
   ]
  },
  {
   "cell_type": "markdown",
   "id": "ab73135c",
   "metadata": {},
   "source": [
    "Before we make a CellPopulation we make a cell label and then assign this label to some randomly chosen cells.\n",
    "\n"
   ]
  },
  {
   "cell_type": "code",
   "execution_count": null,
   "id": "4c965778",
   "metadata": {},
   "outputs": [],
   "source": [
    "label = chaste.cell_based.CellLabel()\n",
    "for eachCell in cells:\n",
    "    if(chaste.core.RandomNumberGenerator.Instance().ranf()<0.5):\n",
    "        eachCell.AddCellProperty(label)"
   ]
  },
  {
   "cell_type": "markdown",
   "id": "63891d61",
   "metadata": {},
   "source": [
    "Now we have a mesh and a set of cells to go with it, we can create a `CellPopulation`.\n",
    "\n"
   ]
  },
  {
   "cell_type": "code",
   "execution_count": null,
   "id": "56507a69",
   "metadata": {},
   "outputs": [],
   "source": [
    "cell_population = chaste.cell_based.PottsBasedCellPopulation2(mesh, cells)"
   ]
  },
  {
   "cell_type": "markdown",
   "id": "84a90a0d",
   "metadata": {},
   "source": [
    "In order to visualize labelled cells we need to use the following command.\n",
    "\n"
   ]
  },
  {
   "cell_type": "code",
   "execution_count": null,
   "id": "46963d23",
   "metadata": {},
   "outputs": [],
   "source": [
    "cell_population.AddCellWriterCellLabelWriter()"
   ]
  },
  {
   "cell_type": "markdown",
   "id": "6571a038",
   "metadata": {},
   "source": [
    "PyChaste can do simple 3D rendering with VTK. We set up a VtkScene so that we can\n",
    "see the population evovle in real time.\n",
    "\n"
   ]
  },
  {
   "cell_type": "code",
   "execution_count": null,
   "id": "13078a02",
   "metadata": {},
   "outputs": [],
   "source": [
    "scene= chaste.visualization.VtkScene2()\n",
    "scene.SetCellPopulation(cell_population)\n",
    "scene.GetCellPopulationActorGenerator().SetShowPottsMeshEdges(True)\n",
    "nb_manager = chaste.visualization.JupyterNotebookManager()\n",
    "nb_manager.vtk_show(scene, height=600)"
   ]
  },
  {
   "cell_type": "markdown",
   "id": "73bf51b5",
   "metadata": {},
   "source": [
    "We then pass in the cell population into an `OffLatticeSimulation`, and set the output directory and end time\n",
    "\n"
   ]
  },
  {
   "cell_type": "code",
   "execution_count": null,
   "id": "4c4b7723",
   "metadata": {},
   "outputs": [],
   "source": [
    "simulator = chaste.cell_based.OnLatticeSimulation2(cell_population)\n",
    "simulator.SetOutputDirectory(\"Python/TestCellSorting\")\n",
    "simulator.SetEndTime(20.0)\n",
    "simulator.SetSamplingTimestepMultiple(10)"
   ]
  },
  {
   "cell_type": "markdown",
   "id": "9a2f7393",
   "metadata": {},
   "source": [
    "We must now create one or more update rules, which determine the Hamiltonian in the Potts simulation.\n",
    "For this test, we use two update rules based upon a volume constraint (`VolumeConstraintPottsUpdateRule`) and\n",
    "differential adhesion between cells (`DifferentialAdhesionPottsUpdateRule`), set appropriate parameters, and\n",
    "pass them to the `OnLatticeSimulation`.\n",
    "\n"
   ]
  },
  {
   "cell_type": "code",
   "execution_count": null,
   "id": "4e6905d0",
   "metadata": {},
   "outputs": [],
   "source": [
    "volume_constraint_update_rule = chaste.cell_based.VolumeConstraintPottsUpdateRule2()\n",
    "volume_constraint_update_rule.SetMatureCellTargetVolume(16)\n",
    "volume_constraint_update_rule.SetDeformationEnergyParameter(0.2)\n",
    "simulator.AddUpdateRule(volume_constraint_update_rule)"
   ]
  },
  {
   "cell_type": "markdown",
   "id": "ce8333cb",
   "metadata": {},
   "source": [
    "We repeat the process for any other update rules.\n",
    "\n"
   ]
  },
  {
   "cell_type": "code",
   "execution_count": null,
   "id": "85b15aac",
   "metadata": {},
   "outputs": [],
   "source": [
    "differential_adhesion_update_rule = chaste.cell_based.DifferentialAdhesionPottsUpdateRule2()\n",
    "differential_adhesion_update_rule.SetLabelledCellLabelledCellAdhesionEnergyParameter(0.16)\n",
    "differential_adhesion_update_rule.SetLabelledCellCellAdhesionEnergyParameter(0.11)\n",
    "differential_adhesion_update_rule.SetCellCellAdhesionEnergyParameter(0.02)\n",
    "differential_adhesion_update_rule.SetLabelledCellBoundaryAdhesionEnergyParameter(0.16)\n",
    "differential_adhesion_update_rule.SetCellBoundaryAdhesionEnergyParameter(0.16)\n",
    "simulator.AddUpdateRule(differential_adhesion_update_rule)"
   ]
  },
  {
   "cell_type": "markdown",
   "id": "0c443ccd",
   "metadata": {},
   "source": [
    "Set up plotting\n",
    "\n"
   ]
  },
  {
   "cell_type": "code",
   "execution_count": null,
   "id": "0ccc598e",
   "metadata": {},
   "outputs": [],
   "source": [
    "scene_modifier = chaste.visualization.JupyterSceneModifier2(nb_manager)\n",
    "scene_modifier.SetVtkScene(scene)\n",
    "scene_modifier.SetUpdateFrequency(1000)\n",
    "simulator.AddSimulationModifier(scene_modifier)"
   ]
  },
  {
   "cell_type": "markdown",
   "id": "ac2f8034",
   "metadata": {},
   "source": [
    "To run the simulation, we call `Solve()`.\n",
    "\n"
   ]
  },
  {
   "cell_type": "code",
   "execution_count": null,
   "id": "aad50aa1",
   "metadata": {},
   "outputs": [],
   "source": [
    "scene.Start()\n",
    "simulator.Solve()\n",
    "# Tear down the test \n",
    "chaste.cell_based.TearDownNotebookTest()"
   ]
  }
 ],
 "metadata": {},
 "nbformat": 4,
 "nbformat_minor": 5
}
