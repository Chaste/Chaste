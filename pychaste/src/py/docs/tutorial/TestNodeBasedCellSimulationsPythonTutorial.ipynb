{
 "cells": [
  {
   "cell_type": "markdown",
   "id": "77e70b3c",
   "metadata": {},
   "source": [
    "This tutorial is automatically generated from the file ../test/python/cell_based/tutorials/TestNodeBasedCellSimulationsPythonTutorial.py.\n",
    "\n"
   ]
  },
  {
   "cell_type": "code",
   "execution_count": null,
   "id": "52d0e910",
   "metadata": {},
   "outputs": [],
   "source": [
    "# Jupyter notebook specific imports \n",
    "import matplotlib as mpl \n",
    "from IPython import display \n",
    "%matplotlib inline"
   ]
  },
  {
   "cell_type": "markdown",
   "id": "57ab20c9",
   "metadata": {},
   "source": [
    "\n",
    "# Introduction\n",
    "In this tutorial we show how Chaste can be used to create, run and visualize node-based simulations. Full details of the mechanical model can be found in Pathamathan et\n",
    "al \"A computational study of discrete mechanical tissue models\", Physical Biology. Vol. 6. No. 3. 2009.. DOI (10.1088/1478-3975/6/3/036001).\n",
    "\n",
    "## The Test\n",
    "\n"
   ]
  },
  {
   "cell_type": "code",
   "execution_count": null,
   "id": "fda73917",
   "metadata": {},
   "outputs": [],
   "source": [
    "import numpy as np  # Matrix tools\n",
    "import chaste  # The PyChaste module\n",
    "import chaste.mesh  # Contains meshes\n",
    "import chaste.cell_based  # Contains cell populations\n",
    "import chaste.visualization  # Visualization tools\n",
    "chaste.init()  # Set up MPI"
   ]
  },
  {
   "cell_type": "markdown",
   "id": "92769e61",
   "metadata": {},
   "source": [
    "## Test 1 - A basic node-based simulation\n",
    "In the first test, we run a simple node-based simulation, in which we create a monolayer of cells,\n",
    "using a nodes only mesh. Each cell is assigned a uniform cell-cycle model.\n",
    "\n"
   ]
  },
  {
   "cell_type": "code",
   "execution_count": null,
   "id": "cb9550e8",
   "metadata": {},
   "outputs": [],
   "source": [
    "# Set up the test \n",
    "chaste.cell_based.SetupNotebookTest()"
   ]
  },
  {
   "cell_type": "markdown",
   "id": "35285203",
   "metadata": {},
   "source": [
    "The first thing we do is generate a nodes only mesh. To do this we first create a `MutableMesh` to use as a generating mesh.\n",
    "To do this we can use the `HoneycombMeshGenerator`. This generates a honeycomb-shaped mesh, in which all nodes are equidistant.\n",
    "Here the first and second arguments define the size of the mesh - we have chosen a mesh that is 2 nodes (i.e. cells) wide, and 2 nodes high.\n",
    "\n"
   ]
  },
  {
   "cell_type": "code",
   "execution_count": null,
   "id": "e51780bb",
   "metadata": {},
   "outputs": [],
   "source": [
    "chaste.core.OutputFileHandler(\"Python/TestNodeBasedCellSimulationsTutorial\")\n",
    "generator = chaste.mesh.HoneycombMeshGenerator(2, 2)\n",
    "generating_mesh = generator.GetMesh()"
   ]
  },
  {
   "cell_type": "markdown",
   "id": "24f331ad",
   "metadata": {},
   "source": [
    "Once we have a MutableMesh we can generate a NodesOnlyMesh from it using the following commands.\n",
    "Note you can also generate the NodesOnlyMesh from a collection of nodes.\n",
    "\n"
   ]
  },
  {
   "cell_type": "code",
   "execution_count": null,
   "id": "d7038391",
   "metadata": {},
   "outputs": [],
   "source": [
    "mesh = chaste.mesh.NodesOnlyMesh2()"
   ]
  },
  {
   "cell_type": "markdown",
   "id": "8119355c",
   "metadata": {},
   "source": [
    "To run node-based simulations you need to define a cut off length (second argument in `ConstructNodesWithoutMesh`),\n",
    "which defines the connectivity of the nodes by defining a radius of interaction.\n",
    "\n"
   ]
  },
  {
   "cell_type": "code",
   "execution_count": null,
   "id": "917cb122",
   "metadata": {},
   "outputs": [],
   "source": [
    "mesh.ConstructNodesWithoutMesh(generating_mesh, 1.5)"
   ]
  },
  {
   "cell_type": "markdown",
   "id": "e796f6e5",
   "metadata": {},
   "source": [
    "Having created a mesh, we now create a (wrapped) vector of CellPtrs. To do this, we use the `CellsGenerator` helper class,\n",
    "which is specialized for the type of cell model required (here `UniformCellCycleModel`) and the dimension.\n",
    "We create an empty vector of cells and pass this into the method along with the mesh.\n",
    "The second argument represents the size of that the vector cells should become - one cell for each node,\n",
    "the third argument specifies the proliferative type of the cell.\n",
    "\n"
   ]
  },
  {
   "cell_type": "code",
   "execution_count": null,
   "id": "808fbbbd",
   "metadata": {},
   "outputs": [],
   "source": [
    "transit_type = chaste.cell_based.TransitCellProliferativeType()\n",
    "cell_generator = chaste.cell_based.CellsGeneratorUniformCellCycleModel_2()\n",
    "cells = cell_generator.GenerateBasicRandom(mesh.GetNumNodes(), transit_type)"
   ]
  },
  {
   "cell_type": "markdown",
   "id": "3168b24b",
   "metadata": {},
   "source": [
    "Now we have a mesh and a set of cells to go with it, we can create a `CellPopulation`.\n",
    "In general, this class associates a collection of cells with a mesh. For this test,\n",
    "because we have a `NodesOnlyMesh`, we use a particular type of cell population called a `NodeBasedCellPopulation`.\n",
    "\n"
   ]
  },
  {
   "cell_type": "code",
   "execution_count": null,
   "id": "7b4ed9b9",
   "metadata": {},
   "outputs": [],
   "source": [
    "cell_population = chaste.cell_based.NodeBasedCellPopulation2(mesh, cells)"
   ]
  },
  {
   "cell_type": "markdown",
   "id": "02d07e5c",
   "metadata": {},
   "source": [
    "We can set up a `VtkScene` to do a quick visualization of the population before running the analysis.\n",
    "\n"
   ]
  },
  {
   "cell_type": "code",
   "execution_count": null,
   "id": "4bd3cab0",
   "metadata": {},
   "outputs": [],
   "source": [
    "scene = chaste.visualization.VtkScene2()\n",
    "scene.SetCellPopulation(cell_population)\n",
    "nb_manager = chaste.visualization.JupyterNotebookManager()\n",
    "nb_manager.vtk_show(scene, height=600)"
   ]
  },
  {
   "cell_type": "markdown",
   "id": "9f9973a6",
   "metadata": {},
   "source": [
    "We then pass in the cell population into an `OffLatticeSimulation`, and set the output directory, output multiple and end time\n",
    "\n"
   ]
  },
  {
   "cell_type": "code",
   "execution_count": null,
   "id": "3179c673",
   "metadata": {},
   "outputs": [],
   "source": [
    "simulator = chaste.cell_based.OffLatticeSimulation2_2(cell_population)\n",
    "simulator.SetOutputDirectory(\"Python/TestNodeBasedCellSimulationsTutorial\")\n",
    "simulator.SetSamplingTimestepMultiple(100)\n",
    "simulator.SetEndTime(10.0)"
   ]
  },
  {
   "cell_type": "markdown",
   "id": "5580aefb",
   "metadata": {},
   "source": [
    "We now pass a force law to the simulation.\n",
    "\n"
   ]
  },
  {
   "cell_type": "code",
   "execution_count": null,
   "id": "585ce23f",
   "metadata": {},
   "outputs": [],
   "source": [
    "force = chaste.cell_based.GeneralisedLinearSpringForce2_2()\n",
    "simulator.AddForce(force)"
   ]
  },
  {
   "cell_type": "markdown",
   "id": "72d98417",
   "metadata": {},
   "source": [
    "Save snapshot images of the population during the simulation\n",
    "\n"
   ]
  },
  {
   "cell_type": "code",
   "execution_count": null,
   "id": "383346b9",
   "metadata": {},
   "outputs": [],
   "source": [
    "scene_modifier = chaste.visualization.JupyterSceneModifier2(nb_manager)\n",
    "scene_modifier.SetVtkScene(scene)\n",
    "scene_modifier.SetUpdateFrequency(100)\n",
    "simulator.AddSimulationModifier(scene_modifier)"
   ]
  },
  {
   "cell_type": "markdown",
   "id": "af92ab8b",
   "metadata": {},
   "source": [
    "To run the simulation, we call `Solve()`. We can again do a quick rendering of the population at the end of the simulation\n",
    "\n"
   ]
  },
  {
   "cell_type": "code",
   "execution_count": null,
   "id": "53da8e15",
   "metadata": {},
   "outputs": [],
   "source": [
    "scene.Start()\n",
    "simulator.Solve()\n",
    "scene.End()"
   ]
  },
  {
   "cell_type": "markdown",
   "id": "9f0185e0",
   "metadata": {},
   "source": [
    "The next two lines are for test purposes only and are not part of this tutorial.\n",
    "If different simulation input parameters are being explored the lines should be removed.\n",
    "\n"
   ]
  },
  {
   "cell_type": "code",
   "execution_count": null,
   "id": "e88ccc10",
   "metadata": {},
   "outputs": [],
   "source": [
    "# Tear down the test \n",
    "chaste.cell_based.TearDownNotebookTest()"
   ]
  },
  {
   "cell_type": "markdown",
   "id": "8a2b6027",
   "metadata": {},
   "source": [
    "## Test 2 - a basic node-based simulation in 3D\n",
    "In the second test we run a simple node-based simulation in 3D. This is very similar to the 2D test with the dimension changed from 2 to 3 and\n",
    "instead of using a mesh generator we generate the nodes directly.\n",
    "\n"
   ]
  },
  {
   "cell_type": "code",
   "execution_count": null,
   "id": "9f9ea318",
   "metadata": {},
   "outputs": [],
   "source": [
    "# Set up the test \n",
    "chaste.cell_based.SetupNotebookTest()"
   ]
  },
  {
   "cell_type": "markdown",
   "id": "731b0057",
   "metadata": {},
   "source": [
    "First, we generate a nodes only mesh. This time we specify the nodes manually by first creating a vector of nodes\n",
    "\n"
   ]
  },
  {
   "cell_type": "code",
   "execution_count": null,
   "id": "9451df74",
   "metadata": {},
   "outputs": [],
   "source": [
    "chaste.core.OutputFileHandler(\"Python/TestNodeBasedCellSimulationsSpheroidTutorial\")\n",
    "nodes = []\n",
    "nodes.append(chaste.mesh.Node3(0, False, 0.5, 0.0, 0.0))\n",
    "nodes.append(chaste.mesh.Node3(1, False, -0.5, 0.0, 0.0))\n",
    "nodes.append(chaste.mesh.Node3(2, False, 0.0, 0.5, 0.0))\n",
    "nodes.append(chaste.mesh.Node3(3, False, 0.0, -0.5, 0.0))"
   ]
  },
  {
   "cell_type": "markdown",
   "id": "601163f3",
   "metadata": {},
   "source": [
    "Finally a NodesOnlyMesh is created and the vector of nodes is passed to the ConstructNodesWithoutMesh method.\n",
    "\n"
   ]
  },
  {
   "cell_type": "code",
   "execution_count": null,
   "id": "6a15344d",
   "metadata": {},
   "outputs": [],
   "source": [
    "mesh = chaste.mesh.NodesOnlyMesh3()"
   ]
  },
  {
   "cell_type": "markdown",
   "id": "ec9d87c4",
   "metadata": {},
   "source": [
    "To run node-based simulations you need to define a cut off length (second argument in ConstructNodesWithoutMesh),\n",
    "which defines the connectivity of the nodes by defining a radius of interaction.\n",
    "\n"
   ]
  },
  {
   "cell_type": "code",
   "execution_count": null,
   "id": "be7b899a",
   "metadata": {},
   "outputs": [],
   "source": [
    "mesh.ConstructNodesWithoutMesh(nodes, 1.5)"
   ]
  },
  {
   "cell_type": "markdown",
   "id": "14129c6d",
   "metadata": {},
   "source": [
    "Having created a mesh, we now create a std::vector of CellPtrs.\n",
    "As before, we do this with the CellsGenerator helper class (this time with dimension 3).\n",
    "\n"
   ]
  },
  {
   "cell_type": "code",
   "execution_count": null,
   "id": "a19b015a",
   "metadata": {},
   "outputs": [],
   "source": [
    "transit_type = chaste.cell_based.TransitCellProliferativeType()\n",
    "cell_generator = chaste.cell_based.CellsGeneratorUniformCellCycleModel_3()\n",
    "cells = cell_generator.GenerateBasicRandom(mesh.GetNumNodes(), transit_type)"
   ]
  },
  {
   "cell_type": "markdown",
   "id": "73409bc2",
   "metadata": {},
   "source": [
    "Now we have a mesh and a set of cells to go with it, we can create a `CellPopulation`.\n",
    "In general, this class associates a collection of cells with a mesh. For this test,\n",
    "because we have a `NodesOnlyMesh`, we use a particular type of cell population called a `NodeBasedCellPopulation`.\n",
    "\n"
   ]
  },
  {
   "cell_type": "code",
   "execution_count": null,
   "id": "37876a5f",
   "metadata": {},
   "outputs": [],
   "source": [
    "cell_population = chaste.cell_based.NodeBasedCellPopulation3(mesh, cells)"
   ]
  },
  {
   "cell_type": "markdown",
   "id": "21c26dc2",
   "metadata": {},
   "source": [
    "We can set up a `VtkScene` to do a quick visualization of the population before running the analysis.\n",
    "\n"
   ]
  },
  {
   "cell_type": "code",
   "execution_count": null,
   "id": "5a273b33",
   "metadata": {},
   "outputs": [],
   "source": [
    "scene = chaste.visualization.VtkScene3()\n",
    "scene.SetCellPopulation(cell_population)\n",
    "nb_manager.vtk_show(scene, height=600)"
   ]
  },
  {
   "cell_type": "markdown",
   "id": "4afd1a22",
   "metadata": {},
   "source": [
    "We then pass in the cell population into an `OffLatticeSimulation`, and set the output directory, output multiple and end time\n",
    "\n"
   ]
  },
  {
   "cell_type": "code",
   "execution_count": null,
   "id": "e87be123",
   "metadata": {},
   "outputs": [],
   "source": [
    "simulator = chaste.cell_based.OffLatticeSimulation3_3(cell_population)\n",
    "simulator.SetOutputDirectory(\"Python/TestNodeBasedCellSimulationsSpheroidTutorial\")\n",
    "simulator.SetSamplingTimestepMultiple(12)\n",
    "simulator.SetEndTime(10.0)"
   ]
  },
  {
   "cell_type": "markdown",
   "id": "3e9aa750",
   "metadata": {},
   "source": [
    "We now pass a force law to the simulation.\n",
    "\n"
   ]
  },
  {
   "cell_type": "code",
   "execution_count": null,
   "id": "76b09516",
   "metadata": {},
   "outputs": [],
   "source": [
    "force = chaste.cell_based.GeneralisedLinearSpringForce3_3()\n",
    "simulator.AddForce(force)"
   ]
  },
  {
   "cell_type": "markdown",
   "id": "b275a15c",
   "metadata": {},
   "source": [
    "Save snapshot images of the population during the simulation\n",
    "\n"
   ]
  },
  {
   "cell_type": "code",
   "execution_count": null,
   "id": "3143d3b0",
   "metadata": {},
   "outputs": [],
   "source": [
    "scene_modifier = chaste.visualization.JupyterSceneModifier3(nb_manager)\n",
    "scene_modifier.SetVtkScene(scene)\n",
    "scene_modifier.SetUpdateFrequency(100)\n",
    "simulator.AddSimulationModifier(scene_modifier)"
   ]
  },
  {
   "cell_type": "markdown",
   "id": "b68d807a",
   "metadata": {},
   "source": [
    "To run the simulation, we call `Solve()`. We can again do a quick rendering of the population at the end of the simulation\n",
    "\n"
   ]
  },
  {
   "cell_type": "code",
   "execution_count": null,
   "id": "9d869949",
   "metadata": {},
   "outputs": [],
   "source": [
    "scene.Start()\n",
    "simulator.Solve()\n",
    "scene.End()"
   ]
  },
  {
   "cell_type": "markdown",
   "id": "a6e8e951",
   "metadata": {},
   "source": [
    "The next two lines are for test purposes only and are not part of this tutorial.\n",
    "If different simulation input parameters are being explored the lines should be removed.\n",
    "\n"
   ]
  },
  {
   "cell_type": "code",
   "execution_count": null,
   "id": "1fa74bdb",
   "metadata": {},
   "outputs": [],
   "source": [
    "# Tear down the test \n",
    "chaste.cell_based.TearDownNotebookTest()"
   ]
  },
  {
   "cell_type": "markdown",
   "id": "8e043c5d",
   "metadata": {},
   "source": [
    "## Test 3 - a node-based simulation on a restricted geometry\n",
    "In the second test we run a simple node-based simulation in 3D. This is very similar to the 2D test with the dimension changed from 2 to 3 and\n",
    "instead of using a mesh generator we generate the nodes directly.\n",
    "\n"
   ]
  },
  {
   "cell_type": "code",
   "execution_count": null,
   "id": "50ceb577",
   "metadata": {},
   "outputs": [],
   "source": [
    "# Set up the test \n",
    "chaste.cell_based.SetupNotebookTest()"
   ]
  },
  {
   "cell_type": "markdown",
   "id": "17029d10",
   "metadata": {},
   "source": [
    "In the third test we run a node-based simulation restricted to the surface of a sphere.\n",
    "\n"
   ]
  },
  {
   "cell_type": "code",
   "execution_count": null,
   "id": "76793e02",
   "metadata": {},
   "outputs": [],
   "source": [
    "chaste.core.OutputFileHandler(\"Python/TestNodeBasedCellSimulationsRestrictedSpheroidTutorial\")\n",
    "nodes = []\n",
    "nodes.append(chaste.mesh.Node3(0, False, 0.5, 0.0, 0.0))\n",
    "nodes.append(chaste.mesh.Node3(1, False, -0.5, 0.0, 0.0))\n",
    "nodes.append(chaste.mesh.Node3(2, False, 0.0, 0.5, 0.0))\n",
    "nodes.append(chaste.mesh.Node3(3, False, 0.0, -0.5, 0.0))\n",
    "mesh = chaste.mesh.NodesOnlyMesh3()"
   ]
  },
  {
   "cell_type": "markdown",
   "id": "5393d13d",
   "metadata": {},
   "source": [
    "To run node-based simulations you need to define a cut off length (second argument in ConstructNodesWithoutMesh),\n",
    "which defines the connectivity of the nodes by defining a radius of interaction.\n",
    "\n"
   ]
  },
  {
   "cell_type": "code",
   "execution_count": null,
   "id": "05cc0ffe",
   "metadata": {},
   "outputs": [],
   "source": [
    "mesh.ConstructNodesWithoutMesh(nodes, 1.5)\n",
    "transit_type = chaste.cell_based.TransitCellProliferativeType()\n",
    "cell_generator = chaste.cell_based.CellsGeneratorUniformCellCycleModel_3()\n",
    "cells = cell_generator.GenerateBasicRandom(mesh.GetNumNodes(), transit_type)\n",
    "cell_population = chaste.cell_based.NodeBasedCellPopulation3(mesh, cells)"
   ]
  },
  {
   "cell_type": "markdown",
   "id": "9dd8d022",
   "metadata": {},
   "source": [
    "We can set up a `VtkScene` to do a quick visualization of the population before running the analysis.\n",
    "\n"
   ]
  },
  {
   "cell_type": "code",
   "execution_count": null,
   "id": "37e6c49c",
   "metadata": {},
   "outputs": [],
   "source": [
    "scene = chaste.visualization.VtkScene3()\n",
    "scene.SetCellPopulation(cell_population)\n",
    "nb_manager.vtk_show(scene, height=600)\n",
    "simulator = chaste.cell_based.OffLatticeSimulation3_3(cell_population)\n",
    "simulator.SetOutputDirectory(\"Python/TestNodeBasedCellSimulationsRestrictedSpheroidTutorial\")\n",
    "simulator.SetSamplingTimestepMultiple(12)\n",
    "simulator.SetEndTime(10.0)"
   ]
  },
  {
   "cell_type": "markdown",
   "id": "f7f34f19",
   "metadata": {},
   "source": [
    "We now pass a force law to the simulation.\n",
    "\n"
   ]
  },
  {
   "cell_type": "code",
   "execution_count": null,
   "id": "83933153",
   "metadata": {},
   "outputs": [],
   "source": [
    "force = chaste.cell_based.GeneralisedLinearSpringForce3_3()\n",
    "simulator.AddForce(force)"
   ]
  },
  {
   "cell_type": "markdown",
   "id": "570d8800",
   "metadata": {},
   "source": [
    "This time we create a CellPopulationBoundaryCondition and pass this to the OffLatticeSimulation.\n",
    "Here we use a SphereGeometryBoundaryCondition which restricts cells to lie on a sphere (in 3D) or circle (in 2D).\n",
    "For a list of possible boundary conditions see subclasses of AbstractCellPopulationBoundaryCondition.\n",
    "Note that some of these boundary conditions are not compatible with node-based simulations see the specific class documentation\n",
    "for details, if you try to use an incompatible class then you will receive a warning.\n",
    "First we set the centre (0,0,1) and radius of the sphere (1).\n",
    "\n"
   ]
  },
  {
   "cell_type": "code",
   "execution_count": null,
   "id": "c13b64c5",
   "metadata": {},
   "outputs": [],
   "source": [
    "centre = np.array([0.0, 0.0, 1.0])\n",
    "radius = 5.0\n",
    "point2 = chaste.mesh.ChastePoint3(centre)\n",
    "boundary_condition = chaste.cell_based.SphereGeometryBoundaryCondition3(cell_population, point2.rGetLocation(), radius)\n",
    "simulator.AddCellPopulationBoundaryCondition(boundary_condition)"
   ]
  },
  {
   "cell_type": "markdown",
   "id": "bdf1db06",
   "metadata": {},
   "source": [
    "Save snapshot images of the population during the simulation\n",
    "scene_modifier = chaste.cell_based.VtkSceneModifier3()\n"
   ]
  },
  {
   "cell_type": "code",
   "execution_count": null,
   "id": "5ed9087d",
   "metadata": {},
   "outputs": [],
   "source": [
    "scene_modifier.SetVtkScene(scene)\n",
    "scene_modifier.SetUpdateFrequency(100)\n",
    "simulator.AddSimulationModifier(scene_modifier)"
   ]
  },
  {
   "cell_type": "markdown",
   "id": "3787ebeb",
   "metadata": {},
   "source": [
    "To run the simulation, we call `Solve()`. We can again do a quick rendering of the population at the end of the simulation\n",
    "\n"
   ]
  },
  {
   "cell_type": "code",
   "execution_count": null,
   "id": "40df3af8",
   "metadata": {},
   "outputs": [],
   "source": [
    "scene.Start()\n",
    "simulator.Solve()\n",
    "scene.End()"
   ]
  },
  {
   "cell_type": "markdown",
   "id": "8fda7129",
   "metadata": {},
   "source": [
    "The next two lines are for test purposes only and are not part of this tutorial.\n",
    "If different simulation input parameters are being explored the lines should be removed.\n",
    "\n"
   ]
  },
  {
   "cell_type": "code",
   "execution_count": null,
   "id": "7627d6d3",
   "metadata": {},
   "outputs": [],
   "source": [
    "                       10.0, 6)\n",
    "# Tear down the test \n",
    "chaste.cell_based.TearDownNotebookTest()"
   ]
  }
 ],
 "metadata": {},
 "nbformat": 4,
 "nbformat_minor": 5
}
